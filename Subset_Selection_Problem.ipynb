{
  "nbformat": 4,
  "nbformat_minor": 0,
  "metadata": {
    "colab": {
      "provenance": [],
      "authorship_tag": "ABX9TyPKlODwx+pVj8JyaV1ctooq",
      "include_colab_link": true
    },
    "kernelspec": {
      "name": "python3",
      "display_name": "Python 3"
    },
    "language_info": {
      "name": "python"
    }
  },
  "cells": [
    {
      "cell_type": "markdown",
      "metadata": {
        "id": "view-in-github",
        "colab_type": "text"
      },
      "source": [
        "<a href=\"https://colab.research.google.com/github/jaidalmotra/Mini-Project-01-Subset-Selection-Problem/blob/main/Subset_Selection_Problem.ipynb\" target=\"_parent\"><img src=\"https://colab.research.google.com/assets/colab-badge.svg\" alt=\"Open In Colab\"/></a>"
      ]
    },
    {
      "cell_type": "markdown",
      "source": [
        "Mini Project-01: Subset Selection Problem"
      ],
      "metadata": {
        "id": "qwk_066Mko4c"
      }
    },
    {
      "cell_type": "code",
      "execution_count": null,
      "metadata": {
        "id": "O6b9q8UekQjF"
      },
      "outputs": [],
      "source": [
        "from itertools import combinations\n",
        "\n",
        "def subsets(n):\n",
        "    s=[]\n",
        "    for subset in combinations(n,5):\n",
        "        if sum(subset) == 0:\n",
        "            s.append(subset)\n",
        "    return s\n",
        "\n",
        "# Example usage\n",
        "n=[-12, -3, -6, 7, 2, -2, 6, 3, 9, -7, -5, -8, 1, 11, -9, -4]\n",
        "zero_subsets=subsets(n)\n",
        "\n",
        "# Print the zero-sum subsets\n",
        "for subset in zero_subsets:\n",
        "    print(subset)\n"
      ]
    }
  ]
}